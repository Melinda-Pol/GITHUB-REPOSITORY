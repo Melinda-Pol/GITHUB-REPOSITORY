{
  "nbformat": 4,
  "nbformat_minor": 0,
  "metadata": {
    "colab": {
      "name": "Web Scrapping",
      "version": "0.3.2",
      "provenance": [],
      "include_colab_link": true
    },
    "kernelspec": {
      "name": "python3",
      "display_name": "Python 3"
    }
  },
  "cells": [
    {
      "cell_type": "markdown",
      "metadata": {
        "id": "view-in-github",
        "colab_type": "text"
      },
      "source": [
        "<a href=\"https://colab.research.google.com/github/Melinda-Pol/GITHUB-REPOSITORY/blob/master/Web_Scrapping.ipynb\" target=\"_parent\"><img src=\"https://colab.research.google.com/assets/colab-badge.svg\" alt=\"Open In Colab\"/></a>"
      ]
    },
    {
      "metadata": {
        "id": "IcUIN7BAd4C9",
        "colab_type": "code",
        "colab": {
          "base_uri": "https://localhost:8080/",
          "height": 474
        },
        "outputId": "d4265bd4-d3a6-45e5-c805-1df45ee31853"
      },
      "cell_type": "code",
      "source": [
        "# -*- coding: utf-8 -*-\n",
        "\"\"\"\n",
        "Web Scrapping\n",
        "\"\"\"\n",
        "\n",
        "# =============================================================================\n",
        "# Aerolíneas\n",
        "# =============================================================================\n",
        "import requests\n",
        "from bs4 import BeautifulSoup\n",
        "\n",
        "nombres=[\"AccelyaGroup\",\"IATA\",\"Airbus\",\"Iberia\",\"emirates\",\"AmericanAir\",\"ryanair\",]\n",
        "d={}\n",
        "\n",
        "for i in nombres:  \n",
        "    url=\"https://twitter.com/\"+i\n",
        "    r=requests.get(url)\n",
        "    soup=BeautifulSoup(r.content,\"html.parser\")\n",
        "    titulo=list(soup.select(\"div .js-tweet-text-container p\"))\n",
        "    d.update({i:titulo})\n",
        "\n",
        "for i in d[\"Airbus\"]:\n",
        "    print (i.text)\n"
      ],
      "execution_count": 2,
      "outputs": [
        {
          "output_type": "stream",
          "text": [
            "A milestone delivery! @tapairportugal has received the first #A330-900 jetliner – which has unprecedented operational efficiency, a quiet #AirspaceByAirbus cabin and the lowest seat-mile cost in its category. Learn more: http://bit.ly/TAPFirstA330neo pic.twitter.com/vlrtTWyMoN\n",
            "We're thrilled to count #ChinaEastern, the largest Airbus operator in Asia & 2nd largest in the world, as a new #A350 operator. Combining unmatched levels of efficiency and comfort, the aircraft is particularly well suited to the needs of Asia-Pacific airlines. #LongRangeLeaderpic.twitter.com/8fdn2CxLHk\n",
            "Konnichiwa! The first #A380 for @FlyANA_official has entered our paint shop in Hamburg. It’s going to be a true work of art as we follow the detailed design for a very special livery! Watch this space!pic.twitter.com/lpkknKiv0M\n",
            "Can you hear it? Our first #A330neo is coming closer. \n",
            "Follow it in real time at: http://bit.ly/RadarBox-A330neo …pic.twitter.com/DLpMizrMWV\n",
            "Say “whalello\" to our second #BelugaXL!pic.twitter.com/DnVUlBFX3A\n",
            "#Audi takes off: together with @Airbus and @italdesign , the company is testing a flying taxi concept at @Amsterdamdrone week. How the #prototype of the #future can be operated: http://di-ri.co/ivMot pic.twitter.com/nECWgv1B0q\n",
            "A great day for all of us at #Airbus as @TAPAirPortugal becomes the world's first operator of the new #A330neo. With an unmatched efficiency, it opens new possibilities - flying further with -25% fuel burn, contributing to a more sustainable aviation industry. \"Parabéns TAP!\"pic.twitter.com/We5sqWON9v\n",
            " Every passenger deserves space for luggage, so the #A330neo offers bigger overhead bins so you can sit next to your luggage. #TAP330neopic.twitter.com/5BM6skFYrd\n",
            "@tapairportugal makes the most of the latest connectivity features on board the #A330neo including wifi and latest gen in flight entertainment. #TAP330neopic.twitter.com/dAQJUQAJ5E\n",
            ".@tapairportugal's #AirspaceByAirbus 3-class cabin (34 full-flat biz class, 96 economy plus & 168 economy) on board the #A330neo guarantees each passenger a comfortable flight, with more personal space; latest gen connectivity; & a quieter cabin #TAP330neo https://goo.gl/rTxPPZ pic.twitter.com/uU9wYLrjha\n",
            "\"Bemvido \" to the world's first #A330neo delivered to @tapairportugal. #TAP330neopic.twitter.com/hB4Mz2bWFZ\n",
            "Parabéns @tapairportugal!  #TAP330neopic.twitter.com/63jbiasghj\n",
            "\"The #A330neo's efficiency will power our business forward. Its new #AirspaceByAirbus cabin will meet TAP's ambition to offer the best product in the industry to our passengers.\" Antonoaldo Neves, @tapairportugal CEO #TAP330neopic.twitter.com/BnXaYKfn6I\n",
            "\"The #A330neo will join TAP's #A320neo & #A321neo, and the #A321LR in 2019. With this combination of single-aisle and wide-body “neo” aircraft, TAP will cover all of its potential regional & long-haul routes for decades to come\" @GuillaumeFaury #TAP330neo https://www.flytap.com/en-pt/neo-fleet pic.twitter.com/HT79mByKsg\n",
            ".@tapairportugal and Airbus have a strong relationship that started back in the 80s. Can you guess which was the first Airbus aircraft operated by TAP? #TAP330neo\n",
            "So, what's new about the #A330neo for @tapairportugal to make it the backbone of its long haul fleet?\n",
            "Flying further with -25% fuel burn\n",
            "New #AirspaceByAirbus cabin\n",
            "Ambient lighting to ease jetlag\n",
            "Flying efficiently from 30mns to 17hrs\n",
            "#TAP330neo http://bit.ly/Airbus-A330neo pic.twitter.com/esNwhc3QTm\n",
            "\"Bom dia\" from our Toulouse Delivery Centre where we see life in red and green as we're delivering the world's first #A330neo to @tapairportugal. The Portuguese national airline is set to operate 21 of these new generation aircraft. #TAP330neopic.twitter.com/tgjwfD3bzg\n",
            "It’s the ultimate cross-over between us and @AirbusSpace - luckily there’s plenty of SPACE on the #A380 https://twitter.com/TheRealBuzz/status/1066725841663651840 …\n",
            "Way below zero in Mirabel, Canada but giraffes from Kilimanjaro aren’t scared of the cold! Unveiling new #A220 colors for @AirTanzania, soon to be the 1st A220 African-based operator.pic.twitter.com/T6IysJuHjd\n",
            "Following the #ACJ320neo's maiden flight, Franck Chapman, Airbus Corporate Jets experimental test pilot, outlines the benefits of flying an ACJ320neo from an operator and passenger perspectives.pic.twitter.com/KywTytlViv\n"
          ],
          "name": "stdout"
        }
      ]
    }
  ]
}